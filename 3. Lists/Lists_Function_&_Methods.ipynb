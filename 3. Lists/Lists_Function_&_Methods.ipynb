{
 "cells": [
  {
   "cell_type": "markdown",
   "id": "09e09ba3",
   "metadata": {},
   "source": [
    "<div align=\"center\">\n",
    "\n",
    "### Functions\n",
    "\n",
    "</div>\n",
    "Some of most common list functions:\n",
    "\n",
    "- `enumerate(list)` – Gives you pairs of (index, item) for each element in the list.\n",
    "- `len(list)` – Returns the number of items in the list.\n",
    "- `max(list)` – Returns the largest item in the list.\n",
    "- `min(list)` – Returns the smallest item in the list.\n",
    "- `sorted(list)` – Returns a new list with the items sorted, but doesn’t change the original list.\n",
    "- `sum(list)` – Returns the sum of all items in the list (works only with numbers).\n",
    "\n",
    "Examples:\n"
   ]
  },
  {
   "cell_type": "code",
   "execution_count": null,
   "id": "27235161",
   "metadata": {},
   "outputs": [],
   "source": [
    "list=[2,3,1,4]\n",
    "\n",
    "for index, value in enumerate(list):\n",
    "    print(index, value) # Output: 0 2, 1 3, 2 1, 3 4\n",
    "\n",
    "print(len(list))    # Output: 4\n",
    "print(max(list))    # Output: 4\n",
    "print(min(list))    # Output: 1\n",
    "print(sorted(list)) # Output: [1, 2, 3, 4]\n",
    "print(sum(list))    # Output: 10"
   ]
  },
  {
   "cell_type": "markdown",
   "id": "2bf00832",
   "metadata": {},
   "source": [
    "<hr>\n",
    "<div align=\"center\">\n",
    "\n",
    "### Methods\n",
    "\n",
    "</div>\n",
    "\n",
    "- `append(x)` – Adds `x` to the end of the list.\n",
    "- `copy()` – Makes a new list that’s the same as the original.\n",
    "- `clear()` – Removes everything from the list, making it empty.\n",
    "- `count(x)` – Returns how many times `x` appears in the list.\n",
    "- `extend(list)` – Adds all items from another list (or any iterable) to the end of the list.\n",
    "- `insert(i, x)` – Puts `x` into the list at position `i`.\n",
    "- `index(x)` – Finds the position of the first `x` in the list.\n",
    "- `pop(i)` – Removes and returns the item at position `i` (or the last item if `i` isn’t given).\n",
    "- `remove(x)` – Removes the first `x` from the list.\n",
    "- `reverse()` – Turns the list backwards (reverses the order).\n",
    "- `sort()` – Arranges the list items in order (smallest to largest, or alphabetically).\n",
    "\n",
    "Examples:"
   ]
  },
  {
   "cell_type": "code",
   "execution_count": null,
   "id": "b765e5be",
   "metadata": {},
   "outputs": [
    {
     "name": "stdout",
     "output_type": "stream",
     "text": [
      "[2, 4, 1, 3, 4]\n",
      "2\n",
      "[2, 4, 1, 3, 4]\n",
      "None\n",
      "[2, 4, 1, 3, 4, 5, 7, 6, 0]\n",
      "5\n",
      "[2, 4, 1, 3, 4, 5, 7, 6]\n",
      "[2, 1, 3, 4, 5, 7, 6]\n",
      "[1, 2, 3, 4, 5, 6, 7]\n",
      "[7, 6, 5, 4, 3, 2, 1]\n"
     ]
    }
   ],
   "source": [
    "list1=[2,4,1,3]\n",
    "\n",
    "list1.append(4) # Append 4 to the end of list1\n",
    "print(list1) # Output: [2, 4, 1, 3, 4]\n",
    "\n",
    "print(list1.count(4)) # Count the number of 4s in list1 (Output: 2)\n",
    "\n",
    "list2=list1.copy() # Copy list1 to list2\n",
    "print(list2) # Output: [2, 4, 1, 3, 4]\n",
    "\n",
    "print(list2.clear()) # Clear all elements in list2 (Output: None)\n",
    "\n",
    "list2=[7,6,0]\n",
    "\n",
    "list2.insert(0, 5) # Insert 5 at index 0 in list2\n",
    "print(list2) # Output: [5, 7, 6, 0]\n",
    "\n",
    "list1.extend(list2) # Extend list1 with elements of list2\n",
    "print(list1) # Output: [2, 4, 1, 3, 4, 5, 7, 6, 0]\n",
    "\n",
    "print(list1.index(5)) # Find the index of 5 in list1 (Output: 5)\n",
    "\n",
    "list1.pop(-1) # Remove the element at index -1\n",
    "print(list1) # Output: [2, 4, 1, 3, 4, 5, 7, 6]\n",
    "\n",
    "list1.remove(4) # Remove the first occurrence of 4 from list1\n",
    "print(list1) # Output: [2, 1, 3, 4, 5, 7, 6]\n",
    "\n",
    "list1.sort() # Sort list1 in ascending order\n",
    "print(list1) # Output: [1, 2, 3, 4, 5, 6, 7]\n",
    "\n",
    "list1.reverse() # Reverse the order of elements in list1\n",
    "print(list1) # Output: [7, 6, 5, 4, 3, 2, 1]"
   ]
  }
 ],
 "metadata": {
  "kernelspec": {
   "display_name": "Python 3",
   "language": "python",
   "name": "python3"
  },
  "language_info": {
   "codemirror_mode": {
    "name": "ipython",
    "version": 3
   },
   "file_extension": ".py",
   "mimetype": "text/x-python",
   "name": "python",
   "nbconvert_exporter": "python",
   "pygments_lexer": "ipython3",
   "version": "3.13.3"
  }
 },
 "nbformat": 4,
 "nbformat_minor": 5
}
